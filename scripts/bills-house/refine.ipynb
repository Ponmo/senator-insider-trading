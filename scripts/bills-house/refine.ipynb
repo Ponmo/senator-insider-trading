{
 "cells": [
  {
   "cell_type": "code",
   "execution_count": 1,
   "metadata": {},
   "outputs": [],
   "source": [
    "import pandas as pd\n",
    "\n",
    "vote_details_df = pd.read_csv(\"../../data/bills/congress_roll_call_bill_details.csv\")\n",
    "all_votes_df = pd.read_csv(\"../../data/bills/congress_roll_call_votes.csv\")\n"
   ]
  },
  {
   "cell_type": "code",
   "execution_count": 2,
   "metadata": {},
   "outputs": [
    {
     "name": "stdout",
     "output_type": "stream",
     "text": [
      "Index(['roll_number', 'majority', 'congress', 'session', 'chamber',\n",
      "       'rollcall_num', 'legis_num', 'vote_question', 'amendment_num',\n",
      "       'amendment_author', 'vote_type', 'vote_result', 'action_date',\n",
      "       'vote_desc', 'action_time_etz', 'action_time', 'republican_yeas',\n",
      "       'republican_nays', 'republican_present', 'republican_not_voting',\n",
      "       'democratic_yeas', 'democratic_nays', 'democratic_present',\n",
      "       'democratic_not_voting', 'independent_yeas', 'independent_nays',\n",
      "       'independent_present', 'independent_not_voting'],\n",
      "      dtype='object')\n",
      "['On Passage', 'On Ordering the Previous Question', 'On Agreeing to the Resolution', 'On Motion to Suspend the Rules and Pass, as Amended', 'On Agreeing to the Amendment', 'On Motion to Recommit', 'On Motion to Suspend the Rules and Agree', 'On Motion to Suspend the Rules and Pass', 'On Agreeing to the Resolution, as Amended', 'Passage, Objections of the President To The Contrary Notwithstanding', 'On Motion to Suspend the Rules and Agree, as Amended', 'On Motion to Refer', 'On Motion to Table', 'On Motion to go to Conference', 'On Closing Portions of the Conference', 'On Motion to Instruct Conferees', 'On Consideration of the Resolution', 'On Motion to Adjourn', 'Call of the House', 'Election of the Speaker', 'On Motion to Suspend the Rules and Agree to the Conference Report']\n"
     ]
    }
   ],
   "source": [
    "print(vote_details_df.columns)\n",
    "print(vote_details_df[\"vote_question\"].unique().tolist())\n"
   ]
  },
  {
   "cell_type": "code",
   "execution_count": 3,
   "metadata": {},
   "outputs": [
    {
     "data": {
      "text/html": [
       "<div>\n",
       "<style scoped>\n",
       "    .dataframe tbody tr th:only-of-type {\n",
       "        vertical-align: middle;\n",
       "    }\n",
       "\n",
       "    .dataframe tbody tr th {\n",
       "        vertical-align: top;\n",
       "    }\n",
       "\n",
       "    .dataframe thead th {\n",
       "        text-align: right;\n",
       "    }\n",
       "</style>\n",
       "<table border=\"1\" class=\"dataframe\">\n",
       "  <thead>\n",
       "    <tr style=\"text-align: right;\">\n",
       "      <th></th>\n",
       "      <th>roll_number</th>\n",
       "      <th>name_id</th>\n",
       "      <th>party</th>\n",
       "      <th>state</th>\n",
       "      <th>legislator_name</th>\n",
       "      <th>vote</th>\n",
       "    </tr>\n",
       "  </thead>\n",
       "  <tbody>\n",
       "    <tr>\n",
       "      <th>0</th>\n",
       "      <td>100</td>\n",
       "      <td>A000370</td>\n",
       "      <td>D</td>\n",
       "      <td>NC</td>\n",
       "      <td>Adams</td>\n",
       "      <td>No</td>\n",
       "    </tr>\n",
       "    <tr>\n",
       "      <th>1</th>\n",
       "      <td>100</td>\n",
       "      <td>A000055</td>\n",
       "      <td>R</td>\n",
       "      <td>AL</td>\n",
       "      <td>Aderholt</td>\n",
       "      <td>Yes</td>\n",
       "    </tr>\n",
       "    <tr>\n",
       "      <th>2</th>\n",
       "      <td>100</td>\n",
       "      <td>A000371</td>\n",
       "      <td>D</td>\n",
       "      <td>CA</td>\n",
       "      <td>Aguilar</td>\n",
       "      <td>No</td>\n",
       "    </tr>\n",
       "    <tr>\n",
       "      <th>3</th>\n",
       "      <td>100</td>\n",
       "      <td>A000379</td>\n",
       "      <td>R</td>\n",
       "      <td>MO</td>\n",
       "      <td>Alford</td>\n",
       "      <td>Yes</td>\n",
       "    </tr>\n",
       "    <tr>\n",
       "      <th>4</th>\n",
       "      <td>100</td>\n",
       "      <td>A000372</td>\n",
       "      <td>R</td>\n",
       "      <td>GA</td>\n",
       "      <td>Allen</td>\n",
       "      <td>Yes</td>\n",
       "    </tr>\n",
       "  </tbody>\n",
       "</table>\n",
       "</div>"
      ],
      "text/plain": [
       "   roll_number  name_id party state legislator_name vote\n",
       "0          100  A000370     D    NC           Adams   No\n",
       "1          100  A000055     R    AL        Aderholt  Yes\n",
       "2          100  A000371     D    CA         Aguilar   No\n",
       "3          100  A000379     R    MO          Alford  Yes\n",
       "4          100  A000372     R    GA           Allen  Yes"
      ]
     },
     "execution_count": 3,
     "metadata": {},
     "output_type": "execute_result"
    }
   ],
   "source": [
    "all_votes_df.head()"
   ]
  },
  {
   "cell_type": "markdown",
   "metadata": {},
   "source": [
    "First we need to get rid of unecessary bills\n"
   ]
  },
  {
   "cell_type": "code",
   "execution_count": 4,
   "metadata": {},
   "outputs": [
    {
     "name": "stdout",
     "output_type": "stream",
     "text": [
      "Total number of relevant votes:  625\n",
      "['On Passage', 'On Agreeing to the Resolution', 'On Agreeing to the Amendment', 'On Agreeing to the Resolution, as Amended', 'Passage, Objections of the President To The Contrary Notwithstanding']\n"
     ]
    }
   ],
   "source": [
    "\n",
    "relevant_vote_questions = [\n",
    "    \"On Passage\",\n",
    "    \"Passage, Objections of the President To The Contrary Notwithstanding\",\n",
    "    \"On Agreeing to the Resolution\",\n",
    "    \"On Agreeing to the Resolution, as Amended\",\n",
    "    \"On Agreeing to the Amendment\",\n",
    "]\n",
    "\n",
    "vote_details_df = vote_details_df[vote_details_df[\"vote_question\"].isin(relevant_vote_questions)]\n",
    "\n",
    "print(\"Total number of relevant votes: \", len(all_votes_df[\"roll_number\"].unique().tolist()))\n",
    "print(vote_details_df[\"vote_question\"].unique().tolist())"
   ]
  },
  {
   "cell_type": "markdown",
   "metadata": {},
   "source": [
    "Lets narrow it down to "
   ]
  },
  {
   "cell_type": "code",
   "execution_count": 5,
   "metadata": {},
   "outputs": [
    {
     "name": "stdout",
     "output_type": "stream",
     "text": [
      "Dropped 168 pure party-line votes.\n",
      "Remaining substantive roll_numbers: 289\n"
     ]
    }
   ],
   "source": [
    "threshold = 0.95\n",
    "\n",
    "vote_details_df = vote_details_df.copy()\n",
    "vote_details_df['D_yea_pct'] = (\n",
    "    vote_details_df['democratic_yeas'] /\n",
    "    (vote_details_df['democratic_yeas'] + vote_details_df['democratic_nays'])\n",
    ")\n",
    "vote_details_df['R_yea_pct'] = (\n",
    "    vote_details_df['republican_yeas'] /\n",
    "    (vote_details_df['republican_yeas'] + vote_details_df['republican_nays'])\n",
    ")\n",
    "\n",
    "pure_partisans = vote_details_df[\n",
    "    (\n",
    "        (vote_details_df['D_yea_pct'] >= threshold) &\n",
    "        (vote_details_df['R_yea_pct'] <= (1 - threshold))\n",
    "    ) | (\n",
    "        (vote_details_df['R_yea_pct'] >= threshold) &\n",
    "        (vote_details_df['D_yea_pct'] <= (1 - threshold))\n",
    "    )\n",
    "]['roll_number'].tolist()\n",
    "\n",
    "filtered_vote_details = vote_details_df[\n",
    "    ~vote_details_df['roll_number'].isin(pure_partisans)\n",
    "]\n",
    "\n",
    "filtered_all_votes = all_votes_df[\n",
    "    ~all_votes_df['roll_number'].isin(pure_partisans)\n",
    "]\n",
    "\n",
    "print(f\"Dropped {len(pure_partisans)} pure party-line votes.\")\n",
    "print(\"Remaining substantive roll_numbers:\", filtered_vote_details['roll_number'].nunique())\n"
   ]
  },
  {
   "cell_type": "code",
   "execution_count": 6,
   "metadata": {},
   "outputs": [],
   "source": [
    "import os \n",
    "\n",
    "os.makedirs(\"../../data/bills/refined\", exist_ok=True)\n",
    "\n",
    "vote_details_df.to_csv(\"../../data/bills/refined/vote_details_df.csv\", index=False)"
   ]
  }
 ],
 "metadata": {
  "kernelspec": {
   "display_name": "venv",
   "language": "python",
   "name": "python3"
  },
  "language_info": {
   "codemirror_mode": {
    "name": "ipython",
    "version": 3
   },
   "file_extension": ".py",
   "mimetype": "text/x-python",
   "name": "python",
   "nbconvert_exporter": "python",
   "pygments_lexer": "ipython3",
   "version": "3.10.15"
  }
 },
 "nbformat": 4,
 "nbformat_minor": 2
}
